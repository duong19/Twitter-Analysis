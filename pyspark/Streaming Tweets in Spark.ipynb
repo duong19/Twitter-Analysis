{
 "cells": [
  {
   "cell_type": "markdown",
   "metadata": {},
   "source": [
    "# Spark Streaming"
   ]
  },
  {
   "cell_type": "markdown",
   "metadata": {},
   "source": [
    "## Import thư viện và packages cho Spark\n",
    "\n",
    "---\n"
   ]
  },
  {
   "cell_type": "code",
   "execution_count": 1,
   "metadata": {},
   "outputs": [],
   "source": [
    "import os \n",
    "packages = \"org.apache.spark:spark-sql-kafka-0-10_2.12:3.0.1\"\n",
    "\n",
    "os.environ[\"PYSPARK_PYTHON\"] = '/usr/bin/python3'\n",
    "os.environ[\"PYSPARK_SUBMIT_ARGS\"] = (\n",
    "    \"--packages {0} pyspark-shell\".format(packages)\n",
    ")\n",
    "from pyspark.sql.functions import *\n",
    "import json\n",
    "import sys\n",
    "import re\n",
    "\n",
    "from pyspark.sql.types import *\n",
    "from pyspark.context import SparkContext\n",
    "from pyspark.sql.session import SparkSession\n",
    "\n",
    "\n",
    "from textblob import TextBlob\n",
    "\n",
    "\n",
    "spark = SparkSession.builder.master('spark://spark-master:7077').config('spark.cores.max','1').config(\"spark.executor.memory\", \"1g\").getOrCreate()"
   ]
  },
  {
   "cell_type": "markdown",
   "metadata": {},
   "source": [
    "## Structured Streaming từ Kafka\n",
    "\n",
    "---"
   ]
  },
  {
   "cell_type": "markdown",
   "metadata": {},
   "source": [
    "Xây dựng 2 streaming DataFrame từ Kafka source tương ứng với 2 topic được subscribe là **Trump** và **Biden**.\n",
    "\n"
   ]
  },
  {
   "cell_type": "code",
   "execution_count": 2,
   "metadata": {},
   "outputs": [],
   "source": [
    "trumpDF = spark.readStream.format(\"kafka\")\\\n",
    ".option(\"kafka.bootstrap.servers\", \"kafka:9092\")\\\n",
    ".option(\"subscribe\", \"Trump\")\\\n",
    ".option('failOnDataLoss', 'false') \\\n",
    ".load()\n",
    "\n",
    "\n",
    "bidenDF = spark.readStream.format(\"kafka\")\\\n",
    ".option(\"kafka.bootstrap.servers\", \"kafka:9092\")\\\n",
    ".option(\"subscribe\", \"Biden\")\\\n",
    ".option('failOnDataLoss', 'false') \\\n",
    ".load()"
   ]
  },
  {
   "cell_type": "markdown",
   "metadata": {},
   "source": [
    "Clean dữ liệu với thư viện [tweet-preprocessor](https://github.com/s/preprocessor)\n",
    "- Thay thế các kí tự HTML Entities (nếu có) bằng các kí tự thông thường\n",
    "- Chuyển hashtag thành 1 từ trong tweet\n",
    "- Loại bỏ emoji, URL và user tag có trong tweet"
   ]
  },
  {
   "cell_type": "code",
   "execution_count": 3,
   "metadata": {},
   "outputs": [],
   "source": [
    "import preprocessor as p\n",
    "p.set_options(p.OPT.URL, p.OPT.EMOJI)\n",
    "\n",
    "def preprocess(text):\n",
    "    tweet_text = re.sub('@[\\w]+','',text)\n",
    "    tweet_text = (tweet_text.replace('&amp;', '&').replace('&lt;', '<')\\\n",
    "                  .replace('&gt;', '>').replace('&quot;', '\"')\\\n",
    "                  .replace('&#39;', \"'\").replace(';', \" \")\\\n",
    "                  .replace(r'\\u', \" \"))\n",
    "    tweet_text = tweet_text.replace(\"#\", \"\").replace(\"_\", \" \")\n",
    "    tweet_text = p.clean(tweet_text)\n",
    "    \n",
    "    return tweet_text\n"
   ]
  },
  {
   "cell_type": "code",
   "execution_count": 4,
   "metadata": {},
   "outputs": [
    {
     "name": "stdout",
     "output_type": "stream",
     "text": [
      "Preprocessor is awesome\n"
     ]
    }
   ],
   "source": [
    "print(preprocess('Preprocessor is #awesome 👍 https://github.com/s/preprocessor @username @hello'))"
   ]
  },
  {
   "cell_type": "markdown",
   "metadata": {},
   "source": [
    "---\n",
    "Tiếp theo, sử dụng thư viện **TextBlob** để phục vụ cho việc phân loại tweet về Negative, Neutral và Positive.\n",
    "\n",
    "TextBlob là một thư viện về NLP với nhiều chức năng như: part-of-speech tagging, noun phrase extraction, sentiment analysis, classification, translation,.... Ở trong bài toán này, chúng ta sẽ tập trung sử dụng chức năng sentiment analysis của TextBlob.\n",
    "\n",
    "Phương thức **sentiment** trong **TextBlob** trả về  1 namedtuple có dạng `Sentiment(polarity, subjectivity)`. Polarity có khoảng giá trị từ [-1.0, 1.0], còn subjectivity nằm trong khoảng [0.0, 1.0] với 1.0 là rất chủ quan còn 0.0 là rất khách quan.\n",
    "\n",
    "Để thực hiện phân loại tweet, ta chia polarity làm 3 khoảng:\n",
    "- [-1.0, -0.1] là **Negative**\n",
    "- [-0.1, 0.1] là **Neutral**\n",
    "- [0.1, 1.0] là **Positive**"
   ]
  },
  {
   "cell_type": "code",
   "execution_count": 5,
   "metadata": {},
   "outputs": [],
   "source": [
    "def predict_sentiment(tweet_text):\n",
    "    tweet = TextBlob(tweet_text)\n",
    "    if tweet.sentiment.polarity > 0.1:\n",
    "        return \"Positive\"\n",
    "    elif tweet.sentiment.polarity < -0.1:\n",
    "        return \"Negative\"\n",
    "    else:\n",
    "        return \"Neutral\""
   ]
  },
  {
   "cell_type": "code",
   "execution_count": 6,
   "metadata": {},
   "outputs": [
    {
     "data": {
      "text/plain": [
       "'Positive'"
      ]
     },
     "execution_count": 6,
     "metadata": {},
     "output_type": "execute_result"
    }
   ],
   "source": [
    "predict_sentiment(\"Trump is a good president\")"
   ]
  },
  {
   "cell_type": "markdown",
   "metadata": {},
   "source": [
    "---\n",
    "Định nghĩa schema cho dữ liệu được stream từ Kafka:\n",
    "- **time**: Thời gian tạo tweet\n",
    "- **text**: Nội dung tweet\n",
    "- **retweet_count**: Số lần tweet được retweet\n",
    "- **favorite_count**: Số lượt like của tweet\n",
    "- **user_id**: ID của người tạo tweet\n",
    "- **location**: Vị trí địa lí của người tạo tweet\n",
    "- **place**: Vị trí địa lí khi tweet được tạo (nếu người dùng bật định vị)\n",
    "- **user_followers_count**: Số lượng follower của người tạo tweet"
   ]
  },
  {
   "cell_type": "code",
   "execution_count": 7,
   "metadata": {},
   "outputs": [],
   "source": [
    "schema = StructType([   \n",
    "        StructField(\"time\", StringType(), True),\n",
    "        StructField(\"text\", StringType(), True),\n",
    "        StructField(\"retweet_count\", DoubleType(), True),\n",
    "        StructField(\"location\", StringType(), True),\n",
    "        StructField(\"favorite_count\", DoubleType(), True),\n",
    "        StructField(\"user_id\", StringType(), True),\n",
    "        StructField(\"place\", StringType(), True),\n",
    "        StructField(\"user_followers_count\", StringType(), True),\n",
    "    \n",
    "])"
   ]
  },
  {
   "cell_type": "markdown",
   "metadata": {},
   "source": [
    "---\n",
    "Xây dựng pipeline xử lí dữ liệu\n",
    "\n",
    "Đưa dữ liệu về schema đã được định nghĩa => Clean dữ liệu text => Phân loại text"
   ]
  },
  {
   "cell_type": "code",
   "execution_count": 8,
   "metadata": {},
   "outputs": [],
   "source": [
    "def castData(schema, df):\n",
    "    df = df.selectExpr(\"CAST(value AS STRING)\")\n",
    "    df = df.select(from_json(col(\"value\"), schema).alias(\"data\")).select(\"data.*\")\n",
    "    pre_udf = udf(preprocess, StringType())\n",
    "    df = df.withColumn('text', pre_udf(col('text')))\n",
    "    one_row_udf = udf(predict_sentiment, StringType())\n",
    "    df = df.withColumn('sentiment', one_row_udf(col('text')))\n",
    "    \n",
    "    return df"
   ]
  },
  {
   "cell_type": "code",
   "execution_count": 9,
   "metadata": {},
   "outputs": [],
   "source": [
    "trumpDF = castData(schema, trumpDF)\n",
    "bidenDF = castData(schema, bidenDF)"
   ]
  },
  {
   "cell_type": "markdown",
   "metadata": {},
   "source": [
    "---\n",
    "Kết quả sau khi áp dụng pipeline trên"
   ]
  },
  {
   "cell_type": "code",
   "execution_count": 18,
   "metadata": {},
   "outputs": [],
   "source": [
    "query = trumpDF.writeStream.queryName(\"trump\").format(\"memory\")\\\n",
    "    .start()"
   ]
  },
  {
   "cell_type": "code",
   "execution_count": 21,
   "metadata": {},
   "outputs": [
    {
     "name": "stdout",
     "output_type": "stream",
     "text": [
      "+--------------------+--------------------+-------------+--------------------+--------------+-------------------+-----+--------------------+---------+\n",
      "|                time|                text|retweet_count|            location|favorite_count|            user_id|place|user_followers_count|sentiment|\n",
      "+--------------------+--------------------+-------------+--------------------+--------------+-------------------+-----+--------------------+---------+\n",
      "|Wed Dec 30 05:32:...|He will betray Trump|          0.0|                null|           0.0|1072693591414333400| null|                 117|  Neutral|\n",
      "|Wed Dec 30 05:32:...|This is CRAZY! Ju...|          0.0|                null|           0.0|1344096097166389200| null|                   0| Negative|\n",
      "|Wed Dec 30 05:32:...|Doug bro, you are...|          0.0|                null|           0.0|1266941931856236500| null|                  14|  Neutral|\n",
      "|Wed Dec 30 05:32:...|You wont believe ...|          0.0|                null|           0.0|1158791701277925400| null|                 314|  Neutral|\n",
      "|Wed Dec 30 05:32:...|Your hearts shoul...|          0.0|     Kansas City, MO|           0.0|1181875294480801800| null|                 638|  Neutral|\n",
      "|Wed Dec 30 05:32:...|But ... Trump did...|          0.0|          Texas, USA|           0.0| 896547268056105000| null|                 131| Positive|\n",
      "|Wed Dec 30 05:32:...|Your frequent/dai...|          0.0|        Brooklyn, NY|           0.0|           10818272| null|                3963|  Neutral|\n",
      "|Wed Dec 30 05:32:...|I do. She was a y...|          0.0|Here and @lovemoz...|           0.0|1231054638817804300| null|                5007|  Neutral|\n",
      "|Wed Dec 30 05:32:...|I voted Trump. Pr...|          0.0|                null|           0.0| 884890998396125200| null|                  35|  Neutral|\n",
      "|Wed Dec 30 05:32:...|Try again Maybe b...|          0.0|                USA |           0.0|1310094065472434200| null|                 812|  Neutral|\n",
      "|Wed Dec 30 05:32:...|Trump stunt to in...|          0.0|       United States|           0.0| 996535675938799600| null|                  22|  Neutral|\n",
      "|Wed Dec 30 05:32:...|Right, Trump and ...|          0.0| Chitown-Memphis, TN|           0.0|          129231266| null|                1127|  Neutral|\n",
      "|Wed Dec 30 05:32:...|Trump: Adderall m...|          0.0|         LOS ANGELES|           0.0|          195610523| null|                2344| Positive|\n",
      "|Wed Dec 30 05:32:...|When Jesus spoke ...|          0.0|                null|           0.0|         2511675296| null|                  58| Positive|\n",
      "|Wed Dec 30 05:32:...|what the hell is ...|          0.0|                null|           0.0|1303416027133419500| null|                   9| Negative|\n",
      "|Wed Dec 30 05:32:...|They wont even at...|          0.0|                null|           0.0| 806991092667322400| null|                  78|  Neutral|\n",
      "|Wed Dec 30 05:32:...|And you have to k...|          0.0|                null|           0.0|1057381542404735000| null|                 136|  Neutral|\n",
      "|Wed Dec 30 05:32:...|Hi guys, I would ...|          0.0|                null|           0.0|1251101653173850000| null|                  11| Positive|\n",
      "|Wed Dec 30 05:32:...|attourney shook i...|          0.0|            SHE\\THEY|           0.0|1324854574675611600| null|                 115|  Neutral|\n",
      "|Wed Dec 30 05:32:...|God isnt in your ...|          0.0|                 USA|           0.0|           18219561| null|                 362|  Neutral|\n",
      "+--------------------+--------------------+-------------+--------------------+--------------+-------------------+-----+--------------------+---------+\n",
      "only showing top 20 rows\n",
      "\n"
     ]
    }
   ],
   "source": [
    "spark.sql('SELECT * FROM trump').show()"
   ]
  },
  {
   "cell_type": "markdown",
   "metadata": {},
   "source": [
    "---\n",
    "## Lưu trữ dữ liệu sau khi xử lí\n",
    "\n",
    "Cuối cùng, thực hiện ghi dữ liệu lên Hadoop với format là file CSV"
   ]
  },
  {
   "cell_type": "code",
   "execution_count": 10,
   "metadata": {},
   "outputs": [
    {
     "data": {
      "text/plain": [
       "<pyspark.sql.streaming.StreamingQuery at 0x7f37a44224d0>"
      ]
     },
     "execution_count": 10,
     "metadata": {},
     "output_type": "execute_result"
    }
   ],
   "source": [
    "trumpDF.writeStream.trigger(processingTime='5 seconds').queryName(\"trump_tweets\")\\\n",
    ".format(\"csv\").outputMode(\"append\")\\\n",
    ".option(\"checkpointLocation\", \"hdfs://namenode:9000/checkpoints_Trump\")\\\n",
    ".option('path', 'hdfs://namenode:9000/data/trump.csv').start()\n",
    "\n",
    "\n",
    "bidenDF.writeStream.trigger(processingTime='5 seconds').queryName(\"biden_tweets\")\\\n",
    ".format(\"csv\").outputMode(\"append\").option(\"checkpointLocation\", \"hdfs://namenode:9000/checkpoints_Biden\")\\\n",
    ".option('path', 'hdfs://namenode:9000/data/biden.csv').start()"
   ]
  }
 ],
 "metadata": {
  "kernelspec": {
   "display_name": "Python 3",
   "language": "python",
   "name": "python3"
  },
  "language_info": {
   "codemirror_mode": {
    "name": "ipython",
    "version": 3
   },
   "file_extension": ".py",
   "mimetype": "text/x-python",
   "name": "python",
   "nbconvert_exporter": "python",
   "pygments_lexer": "ipython3",
   "version": "3.7.9"
  }
 },
 "nbformat": 4,
 "nbformat_minor": 4
}
