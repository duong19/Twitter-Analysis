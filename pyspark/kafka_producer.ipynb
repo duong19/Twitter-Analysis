{
 "cells": [
  {
   "cell_type": "code",
   "execution_count": null,
   "metadata": {
    "scrolled": true
   },
   "outputs": [],
   "source": [
    "import socket\n",
    "import json\n",
    "from tweepy import OAuthHandler\n",
    "from tweepy import Stream\n",
    "from tweepy.streaming import StreamListener\n",
    "from kafka import KafkaProducer, KafkaClient\n",
    "import config\n",
    "import time\n",
    "import json\n",
    "KAFKA_BROKER = \"kafka:9092\"\n",
    "producer = KafkaProducer(bootstrap_servers=[KAFKA_BROKER])\n",
    "#Stream Listener Class\n",
    "class TweetsListener(StreamListener):\n",
    "\n",
    "    # def __init__(self):\n",
    "    #     # self.client_socket = csocket\n",
    "    def on_data(self, data):\n",
    "        while True:\n",
    "            try:\n",
    "                producer.send(topic='Trump',value=json.dumps({'key':\"value\"}).encode('utf-8'))\n",
    "                time.sleep(0.1)\n",
    "            except BaseException as e:\n",
    "                print(\"Error %s\" % str(e))\n",
    "        return True\n",
    "\n",
    "\n",
    "    def on_error(self, status):\n",
    "        print(status)\n",
    "        return True\n",
    "    \n",
    "t= TweetsListener()\n",
    "t.on_data(\"data\")"
   ]
  },
  {
   "cell_type": "code",
   "execution_count": 4,
   "metadata": {},
   "outputs": [
    {
     "name": "stdout",
     "output_type": "stream",
     "text": [
      "Collecting kafka-python\n",
      "  Downloading kafka_python-2.0.2-py2.py3-none-any.whl (246 kB)\n",
      "\u001b[K     |████████████████████████████████| 246 kB 870 kB/s eta 0:00:01\n",
      "\u001b[?25hInstalling collected packages: kafka-python\n",
      "Successfully installed kafka-python-2.0.2\n"
     ]
    }
   ],
   "source": [
    "!pip install kafka-python"
   ]
  },
  {
   "cell_type": "code",
   "execution_count": null,
   "metadata": {},
   "outputs": [],
   "source": []
  }
 ],
 "metadata": {
  "kernelspec": {
   "display_name": "Python 3",
   "language": "python",
   "name": "python3"
  },
  "language_info": {
   "codemirror_mode": {
    "name": "ipython",
    "version": 3
   },
   "file_extension": ".py",
   "mimetype": "text/x-python",
   "name": "python",
   "nbconvert_exporter": "python",
   "pygments_lexer": "ipython3",
   "version": "3.8.6"
  }
 },
 "nbformat": 4,
 "nbformat_minor": 4
}
