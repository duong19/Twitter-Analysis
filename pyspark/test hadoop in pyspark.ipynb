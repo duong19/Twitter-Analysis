{
 "cells": [
  {
   "cell_type": "code",
   "execution_count": 1,
   "metadata": {},
   "outputs": [],
   "source": [
    "from pyspark.sql import SparkSession\n",
    "sparkSession = SparkSession.builder.appName(\"example-pyspark-read-and-write\").getOrCreate()"
   ]
  },
  {
   "cell_type": "code",
   "execution_count": 2,
   "metadata": {},
   "outputs": [],
   "source": [
    "HDFS_HOST=\"hdfs://namenode:9000/\"\n",
    "# Create data\n",
    "data = [('First', 1), ('Second', 2), ('Third', 3), ('Fourth', 4), ('Fifth', 5)]\n",
    "df = sparkSession.createDataFrame(data)\n",
    "\n",
    "# Write into HDFS\n",
    "df.write.csv(HDFS_HOST+\"test/example.csv\")\n",
    "# để kiểm tra vào shell của name node \n",
    "# dùng lệnh hdfs dfs -ls /\n",
    "# sẽ hiển thị thông tin file vừa ghi"
   ]
  },
  {
   "cell_type": "code",
   "execution_count": 15,
   "metadata": {},
   "outputs": [],
   "source": [
    "df_load = sparkSession.read.csv('hdfs://namenode:9000/raw_data/trump.csv/part-00000-1d1f074b-b2ef-45de-867d-bca50a4b3cda-c000.csv')\n",
    "# df = sparkSession.read.format(\"csv\").option(\"header\", \"true\").load(\"hdfs://namenode:9000/raw_data/trump.csv/part-00000-1d1f074b-b2ef-45de-867d-bca50a4b3cda-c000.csv\")"
   ]
  },
  {
   "cell_type": "code",
   "execution_count": 16,
   "metadata": {},
   "outputs": [
    {
     "name": "stdout",
     "output_type": "stream",
     "text": [
      "+------------------------------+--------------------------------------------------------------------------------------------------------------------------------------------+----+----------------+-------------------+-------------------+----+-----+\n",
      "|Sun Dec 20 15:57:14 +0000 2020|RT @mtracey: This final wave of hysteria over a supposedly imminent “military coup” should be understood as anti-Trump addicts delaying the…|0.02|             _c3|               0.04| 902526966577946600| _c6|   38|\n",
      "+------------------------------+--------------------------------------------------------------------------------------------------------------------------------------------+----+----------------+-------------------+-------------------+----+-----+\n",
      "|          Sun Dec 20 15:57:...|                                                                                                                        Feeding hysteria ...| 0.0|         Seattle|                0.0|          281867095|null| 1896|\n",
      "|          Sun Dec 20 15:57:...|                                                                                                                        RT @JonLemire: NE...|null|            null|               null|               null|null| null|\n",
      "|                       But n…\"|                                                                                                                                         0.0|null|             0.0|1255578068892233700|               null|  71| null|\n",
      "|          Sun Dec 20 15:57:...|                                                                                                                        RT @DWUhlfelderLa...| 0.0| Ontario, Canada|                0.0|         1146932412|null|  100|\n",
      "|          Sun Dec 20 15:57:...|                                                                                                                        Trump Considers M...| 0.0|            null|                0.0|           48774801|null|  396|\n",
      "|          Sun Dec 20 15:57:...|                                                                                                                        RT @TheLastRefuge...|null|            null|               null|               null|null| null|\n",
      "|          https://t.co/Dp7U...|                                                                                                                                         0.0|null|             0.0| 830947339128811500|               null| 765| null|\n",
      "|          Sun Dec 20 15:57:...|                                                                                                                        RT @MichaelArt123...| 0.0|            null|                0.0|           52208322|null|  189|\n",
      "|          Sun Dec 20 15:57:...|                                                                                                                        RT @mortgageconsu...| 0.0|       The world|                0.0|          188055481|null|26012|\n",
      "|          Sun Dec 20 15:57:...|                                                                                                                        RT @Strandjunker:...| 0.0|            null|                0.0|           48737976|null|   98|\n",
      "|          Sun Dec 20 15:57:...|                                                                                                                        RT @MichaelArt123...| 0.0|     Yonkers, NY|                0.0|          203649189|null| 5446|\n",
      "|          Sun Dec 20 15:57:...|                                                                                                                        RT @TheRightMelis...| 0.0|           Texas|                0.0|           15293839|null| 4154|\n",
      "|          Sun Dec 20 15:57:...|                                                                                                                        RT @ananavarro: Y...| 0.0|      Wausau, Wi|                0.0|          467463475|null|  731|\n",
      "|          Sun Dec 20 15:57:...|                                                                                                                        RT @paulkrugman: ...| 0.0|          Milano|                0.0|          391583088|null|  139|\n",
      "|          Sun Dec 20 15:57:...|                                                                                                                        @adv_albert @real...| 0.0|Banbury, England|                0.0|           39739207|null|  259|\n",
      "|          Sun Dec 20 15:57:...|                                                                                                                        President Trump T...| 0.0|   Wisconsin,USA|                0.0|           48372776|null| 3372|\n",
      "|          Sun Dec 20 15:57:...|                                                                                                                        @davidaxelrod @Pa...| 0.0|            null|                0.0|1024424468742131700|null| 1862|\n",
      "|          Sun Dec 20 15:57:...|                                                                                                                        RT @e_whittler: O...| 0.0|     Medford, OR|                0.0|          616475788|null| 1401|\n",
      "|          Sun Dec 20 15:57:...|                                                                                                                        @repmattdean @nyp...|null|            null|               null|               null|null| null|\n",
      "|                         Trump|                                                                                                                            Lindell or Omar?|null|            null|               null|               null|null| null|\n",
      "+------------------------------+--------------------------------------------------------------------------------------------------------------------------------------------+----+----------------+-------------------+-------------------+----+-----+\n",
      "only showing top 20 rows\n",
      "\n"
     ]
    }
   ],
   "source": [
    "df.show()"
   ]
  },
  {
   "cell_type": "code",
   "execution_count": null,
   "metadata": {},
   "outputs": [],
   "source": []
  }
 ],
 "metadata": {
  "kernelspec": {
   "display_name": "Python 3",
   "language": "python",
   "name": "python3"
  },
  "language_info": {
   "codemirror_mode": {
    "name": "ipython",
    "version": 3
   },
   "file_extension": ".py",
   "mimetype": "text/x-python",
   "name": "python",
   "nbconvert_exporter": "python",
   "pygments_lexer": "ipython3",
   "version": "3.8.6"
  }
 },
 "nbformat": 4,
 "nbformat_minor": 4
}
