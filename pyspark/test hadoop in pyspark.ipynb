{
 "cells": [
  {
   "cell_type": "code",
   "execution_count": 1,
   "metadata": {},
   "outputs": [],
   "source": [
    "from pyspark.sql import SparkSession\n",
    "spark = SparkSession.builder.appName(\"example-pyspark-read-and-write\").getOrCreate()"
   ]
  },
  {
   "cell_type": "code",
   "execution_count": 2,
   "metadata": {},
   "outputs": [],
   "source": [
    "HDFS_HOST=\"hdfs://namenode:9000/\"\n",
    "# Create data\n",
    "data = [('First', 1), ('Second', 2), ('Third', 3), ('Fourth', 4), ('Fifth', 5)]\n",
    "df = sparkSession.createDataFrame(data)\n",
    "\n",
    "# Write into HDFS\n",
    "df.write.csv(HDFS_HOST+\"test/example.csv\")\n",
    "# để kiểm tra vào shell của name node \n",
    "# dùng lệnh hdfs dfs -ls /\n",
    "# sẽ hiển thị thông tin file vừa ghi"
   ]
  },
  {
   "cell_type": "code",
   "execution_count": 2,
   "metadata": {},
   "outputs": [],
   "source": [
    "from pyspark.sql.types import *\n",
    "\n",
    "schema = StructType([   \n",
    "        StructField(\"time\", StringType(), True),\n",
    "        StructField(\"text\", StringType(), True),\n",
    "        StructField(\"retweet_count\", DoubleType(), True),\n",
    "        StructField(\"location\", StringType(), True),\n",
    "        StructField(\"favorite_count\", DoubleType(), True),\n",
    "        StructField(\"user_id\", StringType(), True),\n",
    "        StructField(\"place\", StringType(), True),\n",
    "        StructField(\"user_followers_count\", StringType(), True),\n",
    "        StructField(\"sentiment\", StringType(), True)\n",
    "    \n",
    "])"
   ]
  },
  {
   "cell_type": "code",
   "execution_count": 3,
   "metadata": {
    "scrolled": true
   },
   "outputs": [],
   "source": [
    "csvDF = spark \\\n",
    "    .readStream \\\n",
    "    .schema(schema) \\\n",
    "    .csv(\"hdfs://namenode:9000/data/biden.csv/\")"
   ]
  },
  {
   "cell_type": "code",
   "execution_count": 4,
   "metadata": {},
   "outputs": [],
   "source": [
    "query = csvDF.writeStream.queryName(\"device_counts\").format(\"memory\")\\\n",
    "    .start()"
   ]
  },
  {
   "cell_type": "code",
   "execution_count": 6,
   "metadata": {},
   "outputs": [
    {
     "name": "stdout",
     "output_type": "stream",
     "text": [
      "+----------------------------------------+\n",
      "|time                                    |\n",
      "+----------------------------------------+\n",
      "|Mon Dec 21 12:41:25 +0000 2020          |\n",
      "|Mon Dec 21 12:41:26 +0000 2020          |\n",
      "|Mon Dec 21 12:41:27 +0000 2020          |\n",
      "|Mon Dec 21 12:41:28 +0000 2020          |\n",
      "|Mon Dec 21 12:41:28 +0000 2020          |\n",
      "|Mon Dec 21 12:41:29 +0000 2020          |\n",
      "|Mon Dec 21 12:41:29 +0000 2020          |\n",
      "|Mon Dec 21 12:41:30 +0000 2020          |\n",
      "|#BidenCrimeFamilly                      |\n",
      "|Trump won in a landslide!\"              |\n",
      "|Mon Dec 21 12:41:32 +0000 2020          |\n",
      "|Mon Dec 21 12:41:33 +0000 2020          |\n",
      "|Mon Dec 21 12:41:33 +0000 2020          |\n",
      "|Mon Dec 21 12:41:33 +0000 2020          |\n",
      "|Mon Dec 21 12:41:33 +0000 2020          |\n",
      "|#bidenwonDonnieLost #bidenwonDonaldlost\"|\n",
      "|Mon Dec 21 12:41:33 +0000 2020          |\n",
      "|Mon Dec 21 12:41:33 +0000 2020          |\n",
      "|Mon Dec 21 12:41:34 +0000 2020          |\n",
      "|Mon Dec 21 12:41:34 +0000 2020          |\n",
      "+----------------------------------------+\n",
      "only showing top 20 rows\n",
      "\n"
     ]
    }
   ],
   "source": [
    "spark.sql('SELECT time FROM device_counts').show(20, False)"
   ]
  },
  {
   "cell_type": "code",
   "execution_count": null,
   "metadata": {},
   "outputs": [],
   "source": []
  }
 ],
 "metadata": {
  "kernelspec": {
   "display_name": "Python 3",
   "language": "python",
   "name": "python3"
  },
  "language_info": {
   "codemirror_mode": {
    "name": "ipython",
    "version": 3
   },
   "file_extension": ".py",
   "mimetype": "text/x-python",
   "name": "python",
   "nbconvert_exporter": "python",
   "pygments_lexer": "ipython3",
   "version": "3.8.6"
  }
 },
 "nbformat": 4,
 "nbformat_minor": 4
}
