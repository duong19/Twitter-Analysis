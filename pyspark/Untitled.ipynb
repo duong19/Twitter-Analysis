{
 "cells": [
  {
   "cell_type": "code",
   "execution_count": 17,
   "metadata": {},
   "outputs": [],
   "source": [
    "from tweepy import OAuthHandler, Stream, StreamListener\n",
    "import tweepy\n",
    "import time\n",
    "\n",
    "import config"
   ]
  },
  {
   "cell_type": "code",
   "execution_count": 18,
   "metadata": {},
   "outputs": [],
   "source": [
    "auth = OAuthHandler(config.consumer_key, config.consumer_secret)\n",
    "auth.set_access_token(config.access_token, config.access_token_secret)\n",
    "\n",
    "api = tweepy.API(auth, wait_on_rate_limit=True)"
   ]
  },
  {
   "cell_type": "code",
   "execution_count": 19,
   "metadata": {},
   "outputs": [],
   "source": [
    "class TweetsListener(StreamListener):\n",
    "\n",
    "    # def __init__(self):\n",
    "    #     # self.client_socket = csocket\n",
    "    def on_data(self, data):\n",
    "        data = json.loads(data)\n",
    "        print(data['user'])\n",
    "        if not data['retweeted'] and 'RT @' not in data['text']:\n",
    "            send_data = make_data(data)\n",
    "            future = producer.send(topic='Trump',value=str(send_data).encode('utf-8'))\n",
    "            try:\n",
    "\n",
    "                record_metadata = future.get(timeout=10)\n",
    "                \n",
    "\n",
    "            except BaseException as e:\n",
    "                print(\"Error %s\" % str(e))\n",
    "\n",
    "            time.sleep(10)\n",
    "        \n",
    "        return True\n",
    "\n",
    "\n",
    "    def on_error(self, status):\n",
    "        print(status)\n",
    "        return True"
   ]
  },
  {
   "cell_type": "code",
   "execution_count": null,
   "metadata": {},
   "outputs": [],
   "source": []
  }
 ],
 "metadata": {
  "kernelspec": {
   "display_name": "Python 3",
   "language": "python",
   "name": "python3"
  },
  "language_info": {
   "codemirror_mode": {
    "name": "ipython",
    "version": 3
   },
   "file_extension": ".py",
   "mimetype": "text/x-python",
   "name": "python",
   "nbconvert_exporter": "python",
   "pygments_lexer": "ipython3",
   "version": "3.8.6"
  }
 },
 "nbformat": 4,
 "nbformat_minor": 4
}
